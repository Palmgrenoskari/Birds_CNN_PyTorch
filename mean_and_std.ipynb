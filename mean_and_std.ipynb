{
 "cells": [
  {
   "cell_type": "markdown",
   "metadata": {},
   "source": [
    "##### Calculating Mean and Std from training set -> Standardization\n",
    "\n",
    "$$\n",
    "Z = \\frac{(X - \\mu)}{\\sigma}\n",
    "$$\n",
    "$$\n",
    "\\mu = mean\n",
    "$$\n",
    "$$\n",
    "\\sigma = std\n",
    "$$\n",
    "\n",
    "Moved this here to keep the CNN notebook cleaner"
   ]
  },
  {
   "cell_type": "code",
   "execution_count": 1,
   "metadata": {},
   "outputs": [],
   "source": [
    "from torch.utils.data import DataLoader\n",
    "from torchvision import datasets, transforms\n",
    "from torchvision.transforms import ToTensor"
   ]
  },
  {
   "cell_type": "code",
   "execution_count": 6,
   "metadata": {},
   "outputs": [],
   "source": [
    "# Images to PyTorch tensors\n",
    "transform = transforms.Compose([\n",
    "  transforms.ToTensor(),\n",
    "])\n",
    "# Get the training data from folder and transform\n",
    "training_data = datasets.ImageFolder('./data/train/', transform=transform)"
   ]
  },
  {
   "cell_type": "code",
   "execution_count": 7,
   "metadata": {},
   "outputs": [
    {
     "name": "stdout",
     "output_type": "stream",
     "text": [
      "Computed Mean: tensor([0.4737, 0.4721, 0.3989]), Computed Std: tensor([0.2029, 0.2014, 0.2066])\n"
     ]
    }
   ],
   "source": [
    "def compute_mean_std(loader):\n",
    "    mean = 0.0\n",
    "    std = 0.0\n",
    "    total_images_count = 0\n",
    "\n",
    "    # images is a tensor containing images, _ is ignored here but has labels\n",
    "    for images, _ in loader:\n",
    "        # Our images variable is currently shape [64, 3, 224, 224]\n",
    "        # Last batch could have less images\n",
    "        batch_samples = images.size(0)\n",
    "        # From shape [64, 3, 224, 224] to [64, 3, 50176] essentially flattening the pixels into 1D\n",
    "        images = images.view(batch_samples, images.size(1), -1)\n",
    "\n",
    "        # Take mean/std of those 50176 pixel values -> [64, 3]\n",
    "        # Then sum those 64 means and you now have sum of 64 images' means per color channel -> shape = [3]\n",
    "        # Keep adding these for batches of 64 until we have the sum of ALL images' means per color channel.\n",
    "        mean += images.mean(2).sum(0)\n",
    "        std += images.std(2).sum(0)\n",
    "\n",
    "        total_images_count += batch_samples\n",
    "\n",
    "    mean /= total_images_count\n",
    "    std /= total_images_count\n",
    "\n",
    "    return mean, std\n",
    "\n",
    "# Load the training data using DataLoader\n",
    "# DataLoader automates the process of loading batches of data\n",
    "# It essentially wraps the dataset in an iterable for easy access\n",
    "loader = DataLoader(training_data, batch_size=64, shuffle=False, num_workers=1)\n",
    "# Get the mean and std with above function\n",
    "mean, std = compute_mean_std(loader)\n",
    "print(f\"Computed Mean: {mean}, Computed Std: {std}\")"
   ]
  }
 ],
 "metadata": {
  "kernelspec": {
   "display_name": "Python 3",
   "language": "python",
   "name": "python3"
  },
  "language_info": {
   "codemirror_mode": {
    "name": "ipython",
    "version": 3
   },
   "file_extension": ".py",
   "mimetype": "text/x-python",
   "name": "python",
   "nbconvert_exporter": "python",
   "pygments_lexer": "ipython3",
   "version": "3.10.10"
  }
 },
 "nbformat": 4,
 "nbformat_minor": 2
}
