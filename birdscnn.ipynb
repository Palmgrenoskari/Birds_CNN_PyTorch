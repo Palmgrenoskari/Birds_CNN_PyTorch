{
 "cells": [
  {
   "cell_type": "markdown",
   "metadata": {},
   "source": [
    "### Imports"
   ]
  },
  {
   "cell_type": "code",
   "execution_count": 2,
   "metadata": {},
   "outputs": [],
   "source": [
    "# Not sure if I'll need every single one of these imports. I'll do some cleaning afterwards.\n",
    "import os\n",
    "import pandas as pd\n",
    "import numpy as np\n",
    "import torch\n",
    "import torchvision\n",
    "from torch import nn, optim\n",
    "from torch.utils.data import DataLoader\n",
    "from torchvision import models, datasets"
   ]
  },
  {
   "cell_type": "markdown",
   "metadata": {},
   "source": [
    "### Some notes for tomorrow...\n",
    "\n",
    "##### Getting data ready\n",
    "* ImageFolder -> DataLoader train, val, test\n",
    "* Manageable chunk of data for visualization:\n",
    "  * iter(DataLoader) -> images, labels = iter.next()\n",
    "  * images = images.numpy() <- This might be required for display (Convert from PyTorch tensor to NumPy array)\n",
    "\n",
    "##### Next up\n",
    "* Device cuda\n",
    "* Choose model (prolly some lightweight VGG or ResNet architecture)\n",
    "* Loss and optim (CrossEntropyLoss and Adam, most likely)\n",
    "* ..."
   ]
  }
 ],
 "metadata": {
  "kernelspec": {
   "display_name": "Python 3",
   "language": "python",
   "name": "python3"
  },
  "language_info": {
   "codemirror_mode": {
    "name": "ipython",
    "version": 3
   },
   "file_extension": ".py",
   "mimetype": "text/x-python",
   "name": "python",
   "nbconvert_exporter": "python",
   "pygments_lexer": "ipython3",
   "version": "3.10.10"
  }
 },
 "nbformat": 4,
 "nbformat_minor": 2
}
